{
  "nbformat": 4,
  "nbformat_minor": 0,
  "metadata": {
    "colab": {
      "provenance": [],
      "authorship_tag": "ABX9TyN+ZA3ANmRr1PWv7C66LLSH",
      "include_colab_link": true
    },
    "kernelspec": {
      "name": "python3",
      "display_name": "Python 3"
    },
    "language_info": {
      "name": "python"
    }
  },
  "cells": [
    {
      "cell_type": "markdown",
      "metadata": {
        "id": "view-in-github",
        "colab_type": "text"
      },
      "source": [
        "<a href=\"https://colab.research.google.com/github/mattyl43/reimagined-palm-tree/blob/main/In_Class_Assignment.ipynb\" target=\"_parent\"><img src=\"https://colab.research.google.com/assets/colab-badge.svg\" alt=\"Open In Colab\"/></a>"
      ]
    },
    {
      "cell_type": "code",
      "source": [
        "# Assignment 1\n",
        "\n",
        "sales = input(\"Enter sales ($): \")\n",
        "sales = float (sales)\n",
        "cogs_pct = input(\"Enter cogs (%): \")\n",
        "cogs_pct = float (cogs_pct)\n",
        "cogs = sales * (cogs_pct / 100)\n",
        "grossProfit = sales - cogs\n",
        "rate = float(input(\"Enter tax rate (%): \"))\n",
        "taxes = grossProfit * rate / 100\n",
        "netIncome = grossProfit - taxes\n",
        "\n",
        "print (f\"cost of Goods sold: ${cogs}\")\n",
        "print (f\"Gross Profit: ${grossProfit}\")\n",
        "print (f\"Net Income: ${netIncome}\")"
      ],
      "metadata": {
        "colab": {
          "base_uri": "https://localhost:8080/"
        },
        "id": "vGpk_ymvrbnP",
        "outputId": "040f2018-3697-4659-eedb-a60e4dfab569"
      },
      "execution_count": null,
      "outputs": [
        {
          "output_type": "stream",
          "name": "stdout",
          "text": [
            "Enter sales ($): 50000\n",
            "Enter cogs (%): 44\n",
            "Enter tax rate (%): 2\n",
            "cost of Goods sold: $22000.0\n",
            "Gross Profit: $28000.0\n",
            "Net Income: $27440.0\n"
          ]
        }
      ]
    },
    {
      "cell_type": "code",
      "source": [
        "# Assignment 2\n",
        "\n",
        "# Inputs\n",
        "demand=int(input(\"Enter demand (units/year): \"))\n",
        "reorder=float(input(\"Enter reorder Cost ($/order): \"))\n",
        "holding=float(input(\"Enter holding Cost ($/unit/year): \"))\n",
        "\n",
        "#Process\n",
        "EOQ = (2 * demand * reorder / holding) ** (1/2)\n",
        "\n",
        "#Output\n",
        "print(f\"EOQ: {EOQ} units \")"
      ],
      "metadata": {
        "colab": {
          "base_uri": "https://localhost:8080/"
        },
        "id": "TE4W3WIqoJSr",
        "outputId": "7ffa0123-7ae8-47ee-c603-1f299d1d931d"
      },
      "execution_count": 2,
      "outputs": [
        {
          "output_type": "stream",
          "name": "stdout",
          "text": [
            "Enter demand (units/year): 1000\n",
            "Enter reorder Cost ($/order): 50\n",
            "Enter holding Cost ($/unit/year): 10\n",
            "EOQ: 100.0 units \n"
          ]
        }
      ]
    },
    {
      "cell_type": "code",
      "source": [
        "# Assignment 3\n",
        "\n",
        "a = float(input(\"First number: \"))\n",
        "b = float(input(\"Second number: \"))\n",
        "op = input(\"Operator (+,-,*,/,//,**, %): \")\n",
        "\n",
        "if op == \"+\": print(a+b)\n",
        "elif op == \"-\": print(a-b)\n",
        "elif op == \"*\": print(a*b)\n",
        "elif op == \"/\": print(a/b if b!=0 else \"Error: division by 0\")\n",
        "elif op == \"//\": print(a//b if b!=0 else \"Error: division by 0\")\n",
        "elif op == \"%\": print(a%b if b!=0 else \"Error: division by 0\")\n",
        "elif op == \"**\": print(a**b)\n",
        "else: print(\"Invalid operator\")\n"
      ],
      "metadata": {
        "colab": {
          "base_uri": "https://localhost:8080/"
        },
        "id": "vQKQNeN_rAou",
        "outputId": "fdbc8e01-37c1-40de-d3cc-0aef425f82d8"
      },
      "execution_count": null,
      "outputs": [
        {
          "output_type": "stream",
          "name": "stdout",
          "text": [
            "First number: 3\n",
            "Second number: 4\n",
            "Operator (+,-,*,/,//,**, %): ##\n",
            "Invalid operator\n"
          ]
        }
      ]
    },
    {
      "cell_type": "code",
      "source": [
        "# Assignment 4\n",
        "\n",
        "\n",
        "# a parking garage charges $5 plus $2.50 for each hour parked\n",
        "\n",
        "# for/while loop\n",
        "\n",
        "# write a program that prints the number of hours parked and the corresponding fee side-by-side from 1 to 8 hours\n",
        "\n",
        "for hour in range(1,9):\n",
        "    fee = 5 + 2.5 * hour\n",
        "    print(hour, fee)\n",
        "\n"
      ],
      "metadata": {
        "id": "cL4H2K5XtBIJ",
        "colab": {
          "base_uri": "https://localhost:8080/"
        },
        "outputId": "c5db121e-fac2-48b2-e17a-e497e86a8ccf"
      },
      "execution_count": null,
      "outputs": [
        {
          "output_type": "stream",
          "name": "stdout",
          "text": [
            "1 7.5\n",
            "2 10.0\n",
            "3 12.5\n",
            "4 15.0\n",
            "5 17.5\n",
            "6 20.0\n",
            "7 22.5\n",
            "8 25.0\n"
          ]
        }
      ]
    },
    {
      "cell_type": "code",
      "source": [
        "# Assignment 4 bonus\n",
        "\n",
        "for hour in range(1, 9):\n",
        "    fee = 5 + 2.5 * hour\n",
        "    if fee < 10:\n",
        "      fee = 10.0\n",
        "    elif fee > 20:\n",
        "      fee = 20.0\n",
        "\n",
        "    print(hour, fee)\n"
      ],
      "metadata": {
        "colab": {
          "base_uri": "https://localhost:8080/"
        },
        "id": "F-MHADL0-vWL",
        "outputId": "30b7d190-93d9-469d-9ef9-8593cbacc958"
      },
      "execution_count": null,
      "outputs": [
        {
          "output_type": "stream",
          "name": "stdout",
          "text": [
            "1 10.0\n",
            "2 10.0\n",
            "3 12.5\n",
            "4 15.0\n",
            "5 17.5\n",
            "6 20.0\n",
            "7 20.0\n",
            "8 20.0\n"
          ]
        }
      ]
    },
    {
      "cell_type": "code",
      "source": [
        "# Assignment 5\n",
        "\n",
        "# a movie theater manager is deciding how much to spend on advertising for an upcoming movie. Each ticket is $100. Without any advertising, 20 people are forecasted to attend.\n",
        "# additional people may attend based on advertsiting spending, estimated to be : additional attendees = 2 x advertising dollars^1/2.\n",
        "# In addition to advertising costs, there are fixed costs to run the theater of $200.\n",
        "# Write a program to generate a table for different advertising amounts and profits.\n",
        "# for/while loop\n",
        "\n",
        "print(\"Ad ($), Profit ($)\")\n",
        "for ad in range(0, 201, 25):\n",
        "    revenue = (20 +2 * ad ** 0.5) * 10\n",
        "    costs = 200 + ad\n",
        "    profit = revenue - costs\n",
        "    print(ad, round(profit, 2))\n",
        "\n",
        "\n"
      ],
      "metadata": {
        "id": "WxyYZCsbAOxj",
        "colab": {
          "base_uri": "https://localhost:8080/"
        },
        "outputId": "e4579cac-4da5-4631-e4a4-c82039308a74"
      },
      "execution_count": null,
      "outputs": [
        {
          "output_type": "stream",
          "name": "stdout",
          "text": [
            "Ad ($), Profit ($)\n",
            "0 0.0\n",
            "25 75.0\n",
            "50 91.42\n",
            "75 98.21\n",
            "100 100.0\n",
            "125 98.61\n",
            "150 94.95\n",
            "175 89.58\n",
            "200 82.84\n"
          ]
        }
      ]
    },
    {
      "cell_type": "code",
      "source": [
        "# Assignment 6\n",
        "\n",
        "numbers = []\n",
        "num = float(input(\"Enter a number: \"))\n",
        "\n",
        "while num != 0:\n",
        "    numbers.append(num)\n",
        "    num = float(input(\"Enter another number: \"))\n",
        "\n",
        "numbers.sort(reverse=True)\n",
        "print(numbers)"
      ],
      "metadata": {
        "id": "cyimWabSuPz0",
        "colab": {
          "base_uri": "https://localhost:8080/"
        },
        "outputId": "cdd4ad73-44ca-41fb-a037-ac6556519074"
      },
      "execution_count": null,
      "outputs": [
        {
          "output_type": "stream",
          "name": "stdout",
          "text": [
            "Enter a number: 2\n",
            "Enter another number: 4\n",
            "Enter another number: 4\n",
            "Enter another number: 6\n",
            "Enter another number: 9\n",
            "Enter another number: 0\n",
            "[9.0, 6.0, 4.0, 4.0, 2.0]\n"
          ]
        }
      ]
    },
    {
      "cell_type": "code",
      "source": [
        "# Assignment 7\n",
        "\n",
        "#shorter version\n",
        "\n",
        "import random\n",
        "\n",
        "choices = (\"rock\", \"paper\", \"scissors\")\n",
        "print(\"Rock-Paper-Scissors\")\n",
        "\n",
        "while input(\"Play? (yes/no): \").strip().lower() == \"yes\":\n",
        "    p = input(\"Choose rock, paper, or scissors: \").strip().lower()\n",
        "    if p not in choices:\n",
        "        print(\"Invalid choice.\\n\"); continue\n",
        "    c = random.choice(choices)\n",
        "    print(\"Computer:\", c)\n",
        "    if p == c:\n",
        "        print(\"Tie.\\n\")\n",
        "    elif (p, c) in ((\"rock\",\"scissors\"), (\"paper\",\"rock\"), (\"scissors\",\"paper\")):\n",
        "        print(\"You win!\\n\")\n",
        "    else:\n",
        "        print(\"You lose.\\n\")\n"
      ],
      "metadata": {
        "colab": {
          "base_uri": "https://localhost:8080/"
        },
        "id": "i51r7ttu-NPl",
        "outputId": "5370bd6c-0c7a-4d86-85a4-3fe9cefa7352"
      },
      "execution_count": null,
      "outputs": [
        {
          "name": "stdout",
          "output_type": "stream",
          "text": [
            "Rock-Paper-Scissors\n",
            "Play? (yes/no): yes\n",
            "Choose rock, paper, or scissors: scissors\n",
            "Computer: paper\n",
            "You win!\n",
            "\n",
            "Play? (yes/no): no\n"
          ]
        }
      ]
    },
    {
      "cell_type": "code",
      "source": [
        "# Assignment 7 Class version\n",
        "\n",
        "import random # Import the random module\n",
        "\n",
        "while True:\n",
        "  play = input('Do you want to play a game (yes/no)?').strip().lower()\n",
        "\n",
        "  if play == 'no':\n",
        "    break\n",
        "\n",
        "\n",
        "  user_choice = input ('Choose between rock/paper/scissors:')\n",
        "  pc_choice = random.choice(['rock', 'paper', 'scissors'])\n",
        "  print(f'User:{user_choice}, Computer:{pc_choice}')\n",
        "\n",
        "  if user_choice == pc_choice:\n",
        "    print('Tie')\n",
        "  elif (\n",
        "      (user_choice == 'rock' and pc_choice == 'scissors') or\n",
        "       (user_choice == 'scissors' and pc_choice == 'paper') or\n",
        "        (user_choice == 'paper' and pc_choice == 'rock')\n",
        "  ):\n",
        "    print( 'User wins!') # Corrected indentation\n",
        "  else:\n",
        "    print( 'Computer wins') # Corrected indentation"
      ],
      "metadata": {
        "id": "nrZtn_7C-bAP",
        "colab": {
          "base_uri": "https://localhost:8080/"
        },
        "outputId": "e4219906-43eb-4c51-d11d-55d9ca85d201"
      },
      "execution_count": 2,
      "outputs": [
        {
          "name": "stdout",
          "output_type": "stream",
          "text": [
            "Do you want to play a game (yes/no)?yes\n",
            "Choose between rock/paper/scissors:rock\n",
            "User:rock, Computer:rock\n",
            "Tie\n",
            "Do you want to play a game (yes/no)?no\n"
          ]
        }
      ]
    },
    {
      "cell_type": "code",
      "source": [
        "# Assignment 8\n",
        "\n",
        "products = {\n",
        "    'P-01': 9.95,\n",
        "    'P-02' : 10.50\n",
        "}\n",
        "\n",
        "id = input(\"Enter product ID: \")\n",
        "\n",
        "if id in products:\n",
        "    print(f'ID: {id}, Price: ${products[id]:.2f}')\n",
        "else:\n",
        "    print(f\"{id} not found\")"
      ],
      "metadata": {
        "colab": {
          "base_uri": "https://localhost:8080/"
        },
        "id": "oxP61e5vQByx",
        "outputId": "c82ddca8-d3f0-4f80-d051-c3b484920784"
      },
      "execution_count": 17,
      "outputs": [
        {
          "output_type": "stream",
          "name": "stdout",
          "text": [
            "Enter product ID: P-02\n",
            "ID: P-02, Price: $10.50\n"
          ]
        }
      ]
    },
    {
      "cell_type": "code",
      "source": [],
      "metadata": {
        "id": "3iJl0DmTQJvG"
      },
      "execution_count": null,
      "outputs": []
    }
  ]
}