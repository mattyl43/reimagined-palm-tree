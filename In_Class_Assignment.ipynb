{
  "nbformat": 4,
  "nbformat_minor": 0,
  "metadata": {
    "colab": {
      "provenance": [],
      "authorship_tag": "ABX9TyMciXwm3PTZvmrwV6E2UO9T",
      "include_colab_link": true
    },
    "kernelspec": {
      "name": "python3",
      "display_name": "Python 3"
    },
    "language_info": {
      "name": "python"
    }
  },
  "cells": [
    {
      "cell_type": "markdown",
      "metadata": {
        "id": "view-in-github",
        "colab_type": "text"
      },
      "source": [
        "<a href=\"https://colab.research.google.com/github/mattyl43/reimagined-palm-tree/blob/main/In_Class_Assignment.ipynb\" target=\"_parent\"><img src=\"https://colab.research.google.com/assets/colab-badge.svg\" alt=\"Open In Colab\"/></a>"
      ]
    },
    {
      "cell_type": "code",
      "source": [
        "sales = input(\"Enter sales ($): \")\n",
        "sales = float (sales)\n",
        "cogs_pct = input(\"Enter cogs (%): \")\n",
        "cogs_pct = float (cogs_pct)\n",
        "cogs = sales * (cogs_pct / 100)\n",
        "grossProfit = sales - cogs\n",
        "rate = float(input(\"Enter tax rate (%): \"))\n",
        "taxes = grossProfit * rate / 100\n",
        "netIncome = grossProfit - taxes\n",
        "\n",
        "print (f\"cost of Goods sold: ${cogs}\")\n",
        "print (f\"Gross Profit: ${grossProfit}\")\n",
        "print (f\"Net Income: ${netIncome}\")"
      ],
      "metadata": {
        "colab": {
          "base_uri": "https://localhost:8080/"
        },
        "id": "vGpk_ymvrbnP",
        "outputId": "040f2018-3697-4659-eedb-a60e4dfab569"
      },
      "execution_count": 5,
      "outputs": [
        {
          "output_type": "stream",
          "name": "stdout",
          "text": [
            "Enter sales ($): 50000\n",
            "Enter cogs (%): 44\n",
            "Enter tax rate (%): 2\n",
            "cost of Goods sold: $22000.0\n",
            "Gross Profit: $28000.0\n",
            "Net Income: $27440.0\n"
          ]
        }
      ]
    },
    {
      "cell_type": "code",
      "source": [
        "# Inputs\n",
        "demand=int(input(\"Enter demand (units/year): \"))\n",
        "reorder=float(input(\"Enter reorder Cost ($/order): \"))\n",
        "holding=float(input(\"Enter holding Cost ($/unit/year): \"))\n",
        "\n",
        "#Process\n",
        "EOQ = (2 * demand * reorder / holding) ** (1/2)\n",
        "\n",
        "#Output\n",
        "print(f\"EOQ: {EOQ} units \")"
      ],
      "metadata": {
        "colab": {
          "base_uri": "https://localhost:8080/"
        },
        "id": "TE4W3WIqoJSr",
        "outputId": "05a13d44-f4c6-4c98-81b4-42378ff94f8a"
      },
      "execution_count": null,
      "outputs": [
        {
          "output_type": "stream",
          "name": "stdout",
          "text": [
            "Enter demand (units/year): 1000\n",
            "Enter reorder Cost ($/order): 50\n",
            "Enter holding Cost ($/unit/year): 10\n",
            "EOQ: 100.0 units \n"
          ]
        }
      ]
    },
    {
      "cell_type": "code",
      "source": [
        "a = float(input(\"First number: \"))\n",
        "b = float(input(\"Second number: \"))\n",
        "op = input(\"Operator (+,-,*,/,//,**, %): \")\n",
        "\n",
        "if op == \"+\": print(a+b)\n",
        "elif op == \"-\": print(a-b)\n",
        "elif op == \"*\": print(a*b)\n",
        "elif op == \"/\": print(a/b if b!=0 else \"Error: division by 0\")\n",
        "elif op == \"//\": print(a//b if b!=0 else \"Error: division by 0\")\n",
        "elif op == \"%\": print(a%b if b!=0 else \"Error: division by 0\")\n",
        "elif op == \"**\": print(a**b)\n",
        "else: print(\"Invalid operator\")\n"
      ],
      "metadata": {
        "colab": {
          "base_uri": "https://localhost:8080/"
        },
        "id": "vQKQNeN_rAou",
        "outputId": "fdbc8e01-37c1-40de-d3cc-0aef425f82d8"
      },
      "execution_count": 7,
      "outputs": [
        {
          "output_type": "stream",
          "name": "stdout",
          "text": [
            "First number: 3\n",
            "Second number: 4\n",
            "Operator (+,-,*,/,//,**, %): ##\n",
            "Invalid operator\n"
          ]
        }
      ]
    },
    {
      "cell_type": "code",
      "source": [],
      "metadata": {
        "id": "cL4H2K5XtBIJ"
      },
      "execution_count": null,
      "outputs": []
    }
  ]
}