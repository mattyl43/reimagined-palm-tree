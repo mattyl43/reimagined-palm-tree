{
  "nbformat": 4,
  "nbformat_minor": 0,
  "metadata": {
    "colab": {
      "provenance": [],
      "authorship_tag": "ABX9TyOsHbGg9xtoODxoEEKuxSpi",
      "include_colab_link": true
    },
    "kernelspec": {
      "name": "python3",
      "display_name": "Python 3"
    },
    "language_info": {
      "name": "python"
    }
  },
  "cells": [
    {
      "cell_type": "markdown",
      "metadata": {
        "id": "view-in-github",
        "colab_type": "text"
      },
      "source": [
        "<a href=\"https://colab.research.google.com/github/mattyl43/reimagined-palm-tree/blob/main/In_Class_Assignment.ipynb\" target=\"_parent\"><img src=\"https://colab.research.google.com/assets/colab-badge.svg\" alt=\"Open In Colab\"/></a>"
      ]
    },
    {
      "cell_type": "code",
      "source": [
        "sales = input(\"Enter sales ($): \")\n",
        "sales = float (sales)\n",
        "cogs_pct = input(\"Enter cogs (%): \")\n",
        "cogs_pct = float (cogs_pct)\n",
        "cogs = sales * (cogs_pct / 100)\n",
        "grossProfit = sales - cogs\n",
        "rate = float(input(\"Enter tax rate (%): \"))\n",
        "taxes = grossProfit * rate / 100\n",
        "netIncome = grossProfit - taxes\n",
        "\n",
        "print (f\"cost of Goods sold: ${cogs}\")\n",
        "print (f\"Gross Profit: ${grossProfit}\")\n",
        "print (f\"Net Income: ${netIncome}\")"
      ],
      "metadata": {
        "colab": {
          "base_uri": "https://localhost:8080/"
        },
        "id": "vGpk_ymvrbnP",
        "outputId": "040f2018-3697-4659-eedb-a60e4dfab569"
      },
      "execution_count": null,
      "outputs": [
        {
          "output_type": "stream",
          "name": "stdout",
          "text": [
            "Enter sales ($): 50000\n",
            "Enter cogs (%): 44\n",
            "Enter tax rate (%): 2\n",
            "cost of Goods sold: $22000.0\n",
            "Gross Profit: $28000.0\n",
            "Net Income: $27440.0\n"
          ]
        }
      ]
    },
    {
      "cell_type": "code",
      "source": [
        "# Inputs\n",
        "demand=int(input(\"Enter demand (units/year): \"))\n",
        "reorder=float(input(\"Enter reorder Cost ($/order): \"))\n",
        "holding=float(input(\"Enter holding Cost ($/unit/year): \"))\n",
        "\n",
        "#Process\n",
        "EOQ = (2 * demand * reorder / holding) ** (1/2)\n",
        "\n",
        "#Output\n",
        "print(f\"EOQ: {EOQ} units \")"
      ],
      "metadata": {
        "colab": {
          "base_uri": "https://localhost:8080/"
        },
        "id": "TE4W3WIqoJSr",
        "outputId": "05a13d44-f4c6-4c98-81b4-42378ff94f8a"
      },
      "execution_count": null,
      "outputs": [
        {
          "output_type": "stream",
          "name": "stdout",
          "text": [
            "Enter demand (units/year): 1000\n",
            "Enter reorder Cost ($/order): 50\n",
            "Enter holding Cost ($/unit/year): 10\n",
            "EOQ: 100.0 units \n"
          ]
        }
      ]
    },
    {
      "cell_type": "code",
      "source": [
        "a = float(input(\"First number: \"))\n",
        "b = float(input(\"Second number: \"))\n",
        "op = input(\"Operator (+,-,*,/,//,**, %): \")\n",
        "\n",
        "if op == \"+\": print(a+b)\n",
        "elif op == \"-\": print(a-b)\n",
        "elif op == \"*\": print(a*b)\n",
        "elif op == \"/\": print(a/b if b!=0 else \"Error: division by 0\")\n",
        "elif op == \"//\": print(a//b if b!=0 else \"Error: division by 0\")\n",
        "elif op == \"%\": print(a%b if b!=0 else \"Error: division by 0\")\n",
        "elif op == \"**\": print(a**b)\n",
        "else: print(\"Invalid operator\")\n"
      ],
      "metadata": {
        "colab": {
          "base_uri": "https://localhost:8080/"
        },
        "id": "vQKQNeN_rAou",
        "outputId": "fdbc8e01-37c1-40de-d3cc-0aef425f82d8"
      },
      "execution_count": null,
      "outputs": [
        {
          "output_type": "stream",
          "name": "stdout",
          "text": [
            "First number: 3\n",
            "Second number: 4\n",
            "Operator (+,-,*,/,//,**, %): ##\n",
            "Invalid operator\n"
          ]
        }
      ]
    },
    {
      "cell_type": "code",
      "source": [
        "# a parking garage charges $5 plus $2.50 for each hour parked\n",
        "\n",
        "# for/while loop\n",
        "\n",
        "# write a program that prints the number of hours parked and the corresponding fee side-by-side from 1 to 8 hours\n",
        "\n",
        "for hour in range(1,9):\n",
        "    fee = 5 + 2.5 * hour\n",
        "    print(hour, fee)\n",
        "\n"
      ],
      "metadata": {
        "id": "cL4H2K5XtBIJ",
        "colab": {
          "base_uri": "https://localhost:8080/"
        },
        "outputId": "c5db121e-fac2-48b2-e17a-e497e86a8ccf"
      },
      "execution_count": null,
      "outputs": [
        {
          "output_type": "stream",
          "name": "stdout",
          "text": [
            "1 7.5\n",
            "2 10.0\n",
            "3 12.5\n",
            "4 15.0\n",
            "5 17.5\n",
            "6 20.0\n",
            "7 22.5\n",
            "8 25.0\n"
          ]
        }
      ]
    },
    {
      "cell_type": "code",
      "source": [
        "#bonus\n",
        "\n",
        "for hour in range(1, 9):\n",
        "    fee = 5 + 2.5 * hour\n",
        "    if fee < 10:\n",
        "      fee = 10.0\n",
        "    elif fee > 20:\n",
        "      fee = 20.0\n",
        "\n",
        "    print(hour, fee)\n"
      ],
      "metadata": {
        "colab": {
          "base_uri": "https://localhost:8080/"
        },
        "id": "F-MHADL0-vWL",
        "outputId": "30b7d190-93d9-469d-9ef9-8593cbacc958"
      },
      "execution_count": 1,
      "outputs": [
        {
          "output_type": "stream",
          "name": "stdout",
          "text": [
            "1 10.0\n",
            "2 10.0\n",
            "3 12.5\n",
            "4 15.0\n",
            "5 17.5\n",
            "6 20.0\n",
            "7 20.0\n",
            "8 20.0\n"
          ]
        }
      ]
    },
    {
      "cell_type": "code",
      "source": [
        "# a movie theater manager is deciding how much to spend on advertising for an upcoming movie. Each ticket is $100. Without any advertising, 20 people are forecasted to attend.\n",
        "# additional people may attend based on advertsiting spending, estimated to be : additional attendees = 2 x advertising dollars^1/2.\n",
        "# In addition to advertising costs, there are fixed costs to run the theater of $200.\n",
        "# Write a program to generate a table for different advertising amounts and profits.\n",
        "# for/while loop\n",
        "\n",
        "print(\"Ad ($)\\tProfit ($)\")\n",
        "for ad in range(0, 201, 25):\n",
        "    attendees = 20 + 2 * ad**0.5\n",
        "    revenue = attendees * 100\n",
        "    costs = 200 + ad\n",
        "    profit = revenue - costs\n",
        "    print(f\"{ad}\\t{round(profit)}\")\n",
        "\n",
        "\n"
      ],
      "metadata": {
        "id": "WxyYZCsbAOxj",
        "colab": {
          "base_uri": "https://localhost:8080/"
        },
        "outputId": "37ed3f91-04ca-4a7a-8654-4ab77bd368e7"
      },
      "execution_count": 7,
      "outputs": [
        {
          "output_type": "stream",
          "name": "stdout",
          "text": [
            "Ad ($)\tProfit ($)\n",
            "0\t1800\n",
            "25\t2775\n",
            "50\t3164\n",
            "75\t3457\n",
            "100\t3700\n",
            "125\t3911\n",
            "150\t4099\n",
            "175\t4271\n",
            "200\t4428\n"
          ]
        }
      ]
    },
    {
      "cell_type": "code",
      "source": [],
      "metadata": {
        "id": "cyimWabSuPz0"
      },
      "execution_count": null,
      "outputs": []
    }
  ]
}